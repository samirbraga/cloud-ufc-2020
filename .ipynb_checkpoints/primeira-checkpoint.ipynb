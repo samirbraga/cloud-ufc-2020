{
 "cells": [
  {
   "cell_type": "code",
   "execution_count": 1,
   "metadata": {},
   "outputs": [],
   "source": [
    "import pandas as pd\n",
    "import numpy as np"
   ]
  },
  {
   "cell_type": "code",
   "execution_count": 2,
   "metadata": {},
   "outputs": [],
   "source": [
    "data = pd.read_csv(\"debate-tweets.tsv\", header=None, sep=\"\\t\", usecols=[1, 7])"
   ]
  },
  {
   "cell_type": "code",
   "execution_count": 27,
   "metadata": {},
   "outputs": [],
   "source": [
    "data2 = pd.read_csv(\"debate-tweets.tsv\", header=None, sep=\"\\t\")"
   ]
  },
  {
   "cell_type": "code",
   "execution_count": 29,
   "metadata": {},
   "outputs": [],
   "source": [
    "amostra = data2.sample(n=100)\n",
    "amostra.to_csv(\"amostra.tsv\", sep='\\t', header=False, index=False)"
   ]
  },
  {
   "cell_type": "code",
   "execution_count": 3,
   "metadata": {},
   "outputs": [],
   "source": [
    "data = data.applymap(str)\n",
    "data.rename(columns={\n",
    "    1: \"mensagem\",\n",
    "    7: \"hora\"\n",
    "}, inplace=True)"
   ]
  },
  {
   "cell_type": "markdown",
   "metadata": {},
   "source": [
    "# ITEM A"
   ]
  },
  {
   "cell_type": "code",
   "execution_count": 4,
   "metadata": {},
   "outputs": [],
   "source": [
    "# ITEM A\n",
    "\n",
    "def def_hour(hour):\n",
    "    hour = int(hour)\n",
    "    if hour > 4 and hour <= 12:\n",
    "        return \"Manhã\"\n",
    "    elif hour > 12 and hour <= 16:\n",
    "        return \"Tarde\"\n",
    "    else:\n",
    "        return \"Noite\"\n",
    "    \n",
    "def get_hashtag(msg):\n",
    "    tags = []\n",
    "    for m in msg.split():\n",
    "        if \"#\" == m[0]:\n",
    "            tags.append(m)\n",
    "    return tags\n",
    "  \n",
    "\n",
    "def map(dataset):\n",
    "    chave = []\n",
    "    valor = []\n",
    "    for data in dataset.itertuples():\n",
    "        cha = def_hour(data.hora.split()[3].split(\":\")[0])\n",
    "        \n",
    "        for hashtag in get_hashtag(data.mensagem):\n",
    "            chave.append(cha)\n",
    "            valor.append(hashtag)\n",
    "    \n",
    "    map_ = pd.DataFrame()\n",
    "    map_[\"chave\"] = chave\n",
    "    map_[\"valor\"] = valor\n",
    "    return  map_\n"
   ]
  },
  {
   "cell_type": "code",
   "execution_count": 5,
   "metadata": {},
   "outputs": [],
   "source": [
    "def reduce(map_out):\n",
    "    for dia in map_out[\"chave\"].unique():\n",
    "        print(dia)\n",
    "        print(map_out[map_out[\"chave\"] == dia].valor.value_counts().iloc[:5], end=\"\\n\\n\")\n"
   ]
  },
  {
   "cell_type": "code",
   "execution_count": 6,
   "metadata": {},
   "outputs": [
    {
     "name": "stdout",
     "output_type": "stream",
     "text": [
      "Tarde\n",
      "#EMABiggestFans1D                40843\n",
      "#EMABiggestFansJustinBieber      36177\n",
      "#QueroNoTVZ                       4032\n",
      "#EMABiggestFansJustinBieber\"      1033\n",
      "#ChristianNoEncontroComFatima      709\n",
      "Name: valor, dtype: int64\n",
      "\n",
      "Noite\n",
      "#EMABiggestFans1D               145303\n",
      "#EMABiggestFansJustinBieber     136957\n",
      "#camilasayshi                     9915\n",
      "#StealMyGirl                      6517\n",
      "#EMABiggestFansJustinBieber\"      4246\n",
      "Name: valor, dtype: int64\n",
      "\n",
      "Manhã\n",
      "#EMABiggestFansJustinBieber    24324\n",
      "#EMABiggestFans1D              23856\n",
      "#trndnl                          873\n",
      "#VoteVampsTeenAwards             863\n",
      "#AustinMahoneChile               537\n",
      "Name: valor, dtype: int64\n",
      "\n"
     ]
    }
   ],
   "source": [
    "reduce(map(data))"
   ]
  },
  {
   "cell_type": "markdown",
   "metadata": {},
   "source": [
    "# ITEM B"
   ]
  },
  {
   "cell_type": "code",
   "execution_count": 7,
   "metadata": {},
   "outputs": [],
   "source": [
    "def get_hashtag(msg):\n",
    "    tags = []\n",
    "    for m in msg.split():\n",
    "        if \"#\" == m[0]:\n",
    "            tags.append(m)\n",
    "    return tags\n",
    "  \n",
    "\n",
    "def map(dataset):\n",
    "    chave = []\n",
    "    valor = []\n",
    "    for data in dataset.itertuples():\n",
    "        cha = data.hora.split()[2]\n",
    "        \n",
    "        for hashtag in get_hashtag(data.mensagem):\n",
    "            chave.append(cha)\n",
    "            valor.append(hashtag)\n",
    "    \n",
    "    map_ = pd.DataFrame()\n",
    "    map_[\"chave\"] = chave\n",
    "    map_[\"valor\"] = valor\n",
    "    return  map_\n"
   ]
  },
  {
   "cell_type": "code",
   "execution_count": 8,
   "metadata": {},
   "outputs": [],
   "source": [
    "def reduce(map_out):\n",
    "    for dia in map_out[\"chave\"].unique():\n",
    "        print(dia)\n",
    "        print(map_out[map_out[\"chave\"] == dia].valor.value_counts().iloc[:5], end=\"\\n\\n\")\n",
    "\n"
   ]
  },
  {
   "cell_type": "code",
   "execution_count": 9,
   "metadata": {},
   "outputs": [
    {
     "name": "stdout",
     "output_type": "stream",
     "text": [
      "15\n",
      "#EMABiggestFans1D              33749\n",
      "#EMABiggestFansJustinBieber    26216\n",
      "#StealMyGirl                    6065\n",
      "#bigpaynodanceoff               4008\n",
      "#AssistamODR                    2406\n",
      "Name: valor, dtype: int64\n",
      "\n",
      "16\n",
      "#EMABiggestFans1D              66619\n",
      "#EMABiggestFansJustinBieber    56040\n",
      "#camilasayshi                   9957\n",
      "#DebateNoSBT                    3113\n",
      "#CartersNewVideo                3099\n",
      "Name: valor, dtype: int64\n",
      "\n",
      "17\n",
      "#EMABiggestFansJustinBieber     46921\n",
      "#EMABiggestFans1D               46416\n",
      "#QueroNoTVZ                      2930\n",
      "#TheVoiceBrasil                  2653\n",
      "#EMABiggestFansJustinBieber\"     1585\n",
      "Name: valor, dtype: int64\n",
      "\n",
      "18\n",
      "#EMABiggestFans1D                26802\n",
      "#EMABiggestFansJustinBieber      26256\n",
      "#QueroNoTVZ                       2379\n",
      "#demiyourstorydoesntdefineyou     1022\n",
      "#WeWantZaynsSongsInFOUR            880\n",
      "Name: valor, dtype: int64\n",
      "\n",
      "19\n",
      "#EMABiggestFansJustinBieber      32016\n",
      "#EMABiggestFans1D                29119\n",
      "#LuanSantanaNaHoraDoFaro          3058\n",
      "#LinkinParkNoMultishow            1842\n",
      "#demiyourstorydoesntdefineyou     1229\n",
      "Name: valor, dtype: int64\n",
      "\n",
      "20\n",
      "#EMABiggestFansJustinBieber    10009\n",
      "#EMABiggestFans1D               7297\n",
      "#DebateNaRecord                 2245\n",
      "#QueroDilmaTreze                1817\n",
      "#debatenarecord                 1761\n",
      "Name: valor, dtype: int64\n",
      "\n"
     ]
    }
   ],
   "source": [
    "reduce(map(data))\n"
   ]
  },
  {
   "cell_type": "markdown",
   "metadata": {},
   "source": [
    "# ITEM C"
   ]
  },
  {
   "cell_type": "code",
   "execution_count": 10,
   "metadata": {},
   "outputs": [],
   "source": [
    "def map(dataset):\n",
    "    chave = []\n",
    "    valor = []\n",
    "    for data in dataset.itertuples():\n",
    "        cha = data.hora.split()[2]\n",
    "        val = data.hora.split()[3].split(\":\")[0]\n",
    "\n",
    "        chave.append(cha)\n",
    "        valor.append(val)\n",
    "\n",
    "    map_ = pd.DataFrame()\n",
    "    map_[\"chave\"] = chave\n",
    "    map_[\"valor\"] = valor\n",
    "    return  map_\n"
   ]
  },
  {
   "cell_type": "code",
   "execution_count": 11,
   "metadata": {},
   "outputs": [],
   "source": [
    "def reduce(map_out):\n",
    "    for dia in map_out[\"chave\"].unique():\n",
    "        print(dia)\n",
    "        print(map_out[map_out[\"chave\"] == dia].valor.value_counts(), end=\"\\n\\n\")\n",
    "    "
   ]
  },
  {
   "cell_type": "code",
   "execution_count": 12,
   "metadata": {},
   "outputs": [
    {
     "name": "stdout",
     "output_type": "stream",
     "text": [
      "15\n",
      "23    97589\n",
      "22    86037\n",
      "17    83956\n",
      "21    79278\n",
      "15    79168\n",
      "16    78363\n",
      "18    77716\n",
      "20    66820\n",
      "19    65103\n",
      "14    34380\n",
      "Name: valor, dtype: int64\n",
      "\n",
      "16\n",
      "02    176225\n",
      "01    163357\n",
      "03    124614\n",
      "00    110250\n",
      "22     99455\n",
      "23     93364\n",
      "21     88485\n",
      "16     79292\n",
      "04     77749\n",
      "15     76896\n",
      "20     68165\n",
      "14     66157\n",
      "17     65831\n",
      "19     58552\n",
      "18     57105\n",
      "13     55960\n",
      "12     49163\n",
      "11     42721\n",
      "05     42667\n",
      "10     37532\n",
      "09     23618\n",
      "06     22230\n",
      "07     10159\n",
      "08      8327\n",
      "Name: valor, dtype: int64\n",
      "\n",
      "17\n",
      "02    153989\n",
      "01    142784\n",
      "03    122216\n",
      "00    107999\n",
      "04     76954\n",
      "16     74914\n",
      "15     74755\n",
      "14     66981\n",
      "20     65614\n",
      "17     65010\n",
      "13     59857\n",
      "18     58848\n",
      "19     57843\n",
      "23     54062\n",
      "22     53502\n",
      "21     53149\n",
      "12     48147\n",
      "05     42225\n",
      "11     40920\n",
      "10     35149\n",
      "06     20986\n",
      "09     20563\n",
      "07     10695\n",
      "08      8018\n",
      "Name: valor, dtype: int64\n",
      "\n",
      "18\n",
      "15    75211\n",
      "16    72340\n",
      "14    71411\n",
      "17    69005\n",
      "23    68668\n",
      "22    65108\n",
      "18    63706\n",
      "02    63504\n",
      "19    61734\n",
      "01    61059\n",
      "21    60674\n",
      "20    59172\n",
      "13    58389\n",
      "03    56569\n",
      "00    55413\n",
      "04    42781\n",
      "12    41490\n",
      "05    37155\n",
      "11    27496\n",
      "06    27475\n",
      "07    17727\n",
      "10    17460\n",
      "08    12109\n",
      "09    11540\n",
      "Name: valor, dtype: int64\n",
      "\n",
      "19\n",
      "03    97584\n",
      "23    95094\n",
      "02    89896\n",
      "22    86636\n",
      "01    80645\n",
      "18    80196\n",
      "04    77494\n",
      "19    77269\n",
      "21    77039\n",
      "16    76309\n",
      "15    75877\n",
      "20    75460\n",
      "17    73542\n",
      "00    73059\n",
      "14    69959\n",
      "05    55963\n",
      "13    55893\n",
      "06    40592\n",
      "12    38052\n",
      "07    22995\n",
      "11    22588\n",
      "08    16698\n",
      "10    15743\n",
      "09    13707\n",
      "Name: valor, dtype: int64\n",
      "\n",
      "20\n",
      "01    134568\n",
      "02    125020\n",
      "00    123624\n",
      "03     92031\n",
      "04     57009\n",
      "05     29497\n",
      "06     14505\n",
      "07      4923\n",
      "Name: valor, dtype: int64\n",
      "\n"
     ]
    }
   ],
   "source": [
    "reduce(map(data))"
   ]
  },
  {
   "cell_type": "markdown",
   "metadata": {},
   "source": [
    "# ITEM D"
   ]
  },
  {
   "cell_type": "code",
   "execution_count": 13,
   "metadata": {},
   "outputs": [],
   "source": [
    "def map(dataset):\n",
    "    chave = []\n",
    "    valor = []\n",
    "    for data in dataset.itertuples():\n",
    "        cha = \"Dilma\"\n",
    "        msg = data.mensagem\n",
    "        if \"dilma\" in msg or \"Dilma\" in msg or \"DILMA\" in msg:\n",
    "            for palavra in data.mensagem.split():\n",
    "                if len(palavra) > 2: \n",
    "                    chave.append(cha)\n",
    "                    valor.append(palavra)\n",
    "    \n",
    "    map_ = pd.DataFrame()\n",
    "    map_[\"chave\"] = chave\n",
    "    map_[\"valor\"] = valor\n",
    "    return  map_\n"
   ]
  },
  {
   "cell_type": "code",
   "execution_count": 14,
   "metadata": {},
   "outputs": [],
   "source": [
    "def reduce(map_out):\n",
    "    print(map_out.valor.value_counts()[:10], end=\"\\n\\n\")"
   ]
  },
  {
   "cell_type": "code",
   "execution_count": 15,
   "metadata": {},
   "outputs": [
    {
     "name": "stdout",
     "output_type": "stream",
     "text": [
      "Dilma               17874\n",
      "que                  9250\n",
      "não                  4901\n",
      "Aécio                4717\n",
      "com                  3571\n",
      "@dilmabr             2548\n",
      "dilma                2491\n",
      "pra                  2394\n",
      "#QueroDilmaTreze     1989\n",
      "vai                  1964\n",
      "Name: valor, dtype: int64\n",
      "\n"
     ]
    }
   ],
   "source": [
    "reduce(map(data))"
   ]
  },
  {
   "cell_type": "markdown",
   "metadata": {},
   "source": [
    "# ITEM E"
   ]
  },
  {
   "cell_type": "code",
   "execution_count": 16,
   "metadata": {},
   "outputs": [],
   "source": [
    "def map(dataset):\n",
    "    chave = []\n",
    "    valor = []\n",
    "    for data in dataset.itertuples():\n",
    "        cha = \"Aécio\"\n",
    "        msg = data.mensagem\n",
    "        if \"aécio\" in msg or \"aecio\" in msg or \"Aécio\" in msg or \"Aecio\" in msg:\n",
    "            for palavra in data.mensagem.split():\n",
    "                if len(palavra) > 2: \n",
    "                    chave.append(cha)\n",
    "                    valor.append(palavra)\n",
    "    \n",
    "    map_ = pd.DataFrame()\n",
    "    map_[\"chave\"] = chave\n",
    "    map_[\"valor\"] = valor\n",
    "    return  map_\n"
   ]
  },
  {
   "cell_type": "code",
   "execution_count": 17,
   "metadata": {},
   "outputs": [],
   "source": [
    "def reduce(map_out):\n",
    "    print(map_out.valor.value_counts()[:10], end=\"\\n\\n\")"
   ]
  },
  {
   "cell_type": "code",
   "execution_count": 18,
   "metadata": {},
   "outputs": [
    {
     "name": "stdout",
     "output_type": "stream",
     "text": [
      "Aécio          13285\n",
      "que             8534\n",
      "Dilma           5610\n",
      "não             4341\n",
      "com             3360\n",
      "@AecioNeves     2858\n",
      "Aecio           2361\n",
      "pra             2082\n",
      "vai             2038\n",
      "para            1808\n",
      "Name: valor, dtype: int64\n",
      "\n"
     ]
    }
   ],
   "source": [
    "reduce(map(data))"
   ]
  },
  {
   "cell_type": "code",
   "execution_count": 22,
   "metadata": {},
   "outputs": [],
   "source": [
    "dic = {\"a\": 10}"
   ]
  },
  {
   "cell_type": "code",
   "execution_count": 23,
   "metadata": {},
   "outputs": [
    {
     "data": {
      "text/plain": [
       "True"
      ]
     },
     "execution_count": 23,
     "metadata": {},
     "output_type": "execute_result"
    }
   ],
   "source": [
    "\"a\" in dic"
   ]
  },
  {
   "cell_type": "code",
   "execution_count": 25,
   "metadata": {},
   "outputs": [
    {
     "data": {
      "text/plain": [
       "'def'"
      ]
     },
     "execution_count": 25,
     "metadata": {},
     "output_type": "execute_result"
    }
   ],
   "source": [
    "dic.get(\"c\", \"def\")"
   ]
  },
  {
   "cell_type": "code",
   "execution_count": null,
   "metadata": {},
   "outputs": [],
   "source": []
  }
 ],
 "metadata": {
  "kernelspec": {
   "display_name": "Python 3",
   "language": "python",
   "name": "python3"
  },
  "language_info": {
   "codemirror_mode": {
    "name": "ipython",
    "version": 3
   },
   "file_extension": ".py",
   "mimetype": "text/x-python",
   "name": "python",
   "nbconvert_exporter": "python",
   "pygments_lexer": "ipython3",
   "version": "3.7.4"
  }
 },
 "nbformat": 4,
 "nbformat_minor": 4
}
